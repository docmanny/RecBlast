{
 "cells": [
  {
   "cell_type": "heading",
   "metadata": {},
   "level": 1,
   "source": [
    "Experimental code playground"
   ]
  },
  {
   "cell_type": "code",
   "execution_count": 1,
   "metadata": {
    "collapsed": true
   },
   "outputs": [
    {
     "name": "stdout",
     "output_type": "stream",
     "text": [
      "Reading ID File...\nFull header:\ngi|940742083|ref|XM_014458811.1| PREDICTED: Myotis lucifugus breast cancer 1, early onset (BRCA1), transcript variant X3, mRNA\t3077.0\n"
     ]
    }
   ],
   "source": [
    "import re\n",
    "from pathlib import Path\n",
    "\n",
    "in_file = Path(\n",
    "    '/home/manny/Scripts/RecBlast/Myotis_lucifugus_recblast_out/blastn_NM_007294.3_Homo_sapiens_to_Myotis_lucifugus.ID_Scores.tmp')\n",
    "verbose = True\n",
    "delim = '\\t'\n",
    "p = [re.compile('(gi)([| :_]+)(\\d\\d+\\.?\\d*)(.*)'),  # regex for gi\n",
    "     re.compile('(NW|ref)([| _:]+)(\\d\\d+\\.?\\d*)(.*)'),  # regex for accession\n",
    "     re.compile('(id)([| :_]+)(\\d\\d+\\.?\\d*)(.*)'),  # regex for generic ID\n",
    "     re.compile(':(\\d+)-(\\d+)'),  # regex for sequence range\n",
    "     ]\n",
    "with in_file.open('r') as infile_handle:\n",
    "    if verbose:\n",
    "        print('Reading ID File...')\n",
    "    id_prelist = [line.strip() for line in infile_handle]  # list of each line in the file\n",
    "    if verbose:\n",
    "        print('Full header:')\n",
    "        try:\n",
    "            print(id_prelist[0])\n",
    "        except IndexError:\n",
    "            print('No items found!')\n",
    "            raise\n",
    "# Check to make sure list is not empty\n",
    "if verbose and (not id_prelist or id_prelist is None):\n",
    "    print('id_prelist is empty!')\n",
    "\n",
    "id_list = [str(item.split(delim)) for item in id_prelist]  # Breaks the tab sep in the lines into strings"
   ]
  },
  {
   "cell_type": "code",
   "execution_count": null,
   "metadata": {},
   "outputs": [],
   "source": [
    "import modules as mod\n",
    "mod.recblast('./etc/3gene.fasta', 'Myotis lucifugus', 'nt', email='juanvazquez@uchicago.edu',passwd='lynchlab1!',fw_id_db_version=\"2.0\")"
   ]
  },
  {
   "cell_type": "code",
   "execution_count": null,
   "metadata": {},
   "outputs": [],
   "source": [
    ""
   ]
  }
 ],
 "metadata": {
  "kernelspec": {
   "display_name": "Python 2",
   "language": "python",
   "name": "python2"
  },
  "language_info": {
   "codemirror_mode": {
    "name": "ipython",
    "version": 2.0
   },
   "file_extension": ".py",
   "mimetype": "text/x-python",
   "name": "python",
   "nbconvert_exporter": "python",
   "pygments_lexer": "ipython2",
   "version": "2.7.6"
  }
 },
 "nbformat": 4,
 "nbformat_minor": 0
}